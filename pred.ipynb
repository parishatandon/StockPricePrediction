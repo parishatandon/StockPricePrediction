{
  "metadata": {
    "kernelspec": {
      "language": "python",
      "display_name": "Python 3",
      "name": "python3"
    },
    "language_info": {
      "pygments_lexer": "ipython3",
      "nbconvert_exporter": "python",
      "version": "3.6.4",
      "file_extension": ".py",
      "codemirror_mode": {
        "name": "ipython",
        "version": 3
      },
      "name": "python",
      "mimetype": "text/x-python"
    },
    "kaggle": {
      "accelerator": "nvidiaTeslaT4",
      "dataSources": [
        {
          "sourceId": 6217264,
          "sourceType": "datasetVersion",
          "datasetId": 3570475
        }
      ],
      "dockerImageVersionId": 30528,
      "isInternetEnabled": true,
      "language": "python",
      "sourceType": "notebook",
      "isGpuEnabled": true
    },
    "colab": {
      "provenance": []
    }
  },
  "nbformat_minor": 0,
  "nbformat": 4,
  "cells": [
    {
      "cell_type": "markdown",
      "source": [
        "## Import libraries"
      ],
      "metadata": {
        "id": "yJ9LWKfno6DM"
      }
    },
    {
      "cell_type": "code",
      "source": [
        "import numpy as np\n",
        "import pandas as pd\n",
        "import tensorflow as tf\n",
        "\n",
        "import plotly.express as px\n",
        "import statsmodels.api as sm\n",
        "import matplotlib.pyplot as plt\n",
        "import plotly.graph_objects as go\n",
        "\n",
        "from tensorflow import keras\n",
        "\n",
        "from keras.layers import GRU, Dropout, SimpleRNN, LSTM, Dense, SimpleRNN, GRU\n",
        "from keras.models import Sequential\n",
        "from sklearn.preprocessing import MinMaxScaler"
      ],
      "metadata": {
        "papermill": {
          "duration": 0.022501,
          "end_time": "2022-08-12T10:33:21.679982",
          "exception": false,
          "start_time": "2022-08-12T10:33:21.657481",
          "status": "completed"
        },
        "tags": [],
        "execution": {
          "iopub.status.busy": "2023-07-30T09:59:10.899941Z",
          "iopub.execute_input": "2023-07-30T09:59:10.90053Z",
          "iopub.status.idle": "2023-07-30T09:59:23.504454Z",
          "shell.execute_reply.started": "2023-07-30T09:59:10.900477Z",
          "shell.execute_reply": "2023-07-30T09:59:23.503475Z"
        },
        "trusted": true,
        "id": "dZBb2wTRo6DT"
      },
      "execution_count": null,
      "outputs": []
    },
    {
      "cell_type": "markdown",
      "source": [
        "## Load Data"
      ],
      "metadata": {
        "id": "fgpE_Zjjo6DY"
      }
    },
    {
      "cell_type": "code",
      "source": [
        "google_training_complete = pd.read_csv(\"/kaggle/input/google-stock-2010-2023/Google_Stock_Train (2010-2022).csv\")\n",
        "\n",
        "# Convert 'Date' column to datetime format\n",
        "google_training_complete['Date'] = pd.to_datetime(google_training_complete['Date'])\n",
        "\n",
        "google_training_complete.head(10)"
      ],
      "metadata": {
        "papermill": {
          "duration": 0.025174,
          "end_time": "2022-08-12T10:33:21.711748",
          "exception": false,
          "start_time": "2022-08-12T10:33:21.686574",
          "status": "completed"
        },
        "tags": [],
        "execution": {
          "iopub.status.busy": "2023-07-30T09:59:23.506288Z",
          "iopub.execute_input": "2023-07-30T09:59:23.506863Z",
          "iopub.status.idle": "2023-07-30T09:59:23.552843Z",
          "shell.execute_reply.started": "2023-07-30T09:59:23.506829Z",
          "shell.execute_reply": "2023-07-30T09:59:23.551938Z"
        },
        "trusted": true,
        "id": "6uHose2Ao6DZ"
      },
      "execution_count": null,
      "outputs": []
    },
    {
      "cell_type": "markdown",
      "source": [
        "## EDA"
      ],
      "metadata": {
        "id": "nTqIs4eUo6DZ"
      }
    },
    {
      "cell_type": "code",
      "source": [
        "# Line chart for Google stock price over time\n",
        "fig1 = px.line(google_training_complete, x='Date', y='Close', title='Google Stock Price Over Time')\n",
        "fig1.show()"
      ],
      "metadata": {
        "execution": {
          "iopub.status.busy": "2023-07-30T09:59:23.55432Z",
          "iopub.execute_input": "2023-07-30T09:59:23.554687Z",
          "iopub.status.idle": "2023-07-30T09:59:25.098362Z",
          "shell.execute_reply.started": "2023-07-30T09:59:23.554653Z",
          "shell.execute_reply": "2023-07-30T09:59:25.097486Z"
        },
        "trusted": true,
        "id": "-rxZHLa7o6Da"
      },
      "execution_count": null,
      "outputs": []
    },
    {
      "cell_type": "code",
      "source": [
        "# Scatter plot of daily trading volume\n",
        "fig2 = px.scatter(google_training_complete, x='Date', y='Volume', title='Daily Trading Volume')\n",
        "fig2.show()"
      ],
      "metadata": {
        "execution": {
          "iopub.status.busy": "2023-07-30T09:59:25.100537Z",
          "iopub.execute_input": "2023-07-30T09:59:25.101566Z",
          "iopub.status.idle": "2023-07-30T09:59:25.218696Z",
          "shell.execute_reply.started": "2023-07-30T09:59:25.101533Z",
          "shell.execute_reply": "2023-07-30T09:59:25.217882Z"
        },
        "trusted": true,
        "id": "ot4peiLfo6Da"
      },
      "execution_count": null,
      "outputs": []
    },
    {
      "cell_type": "code",
      "source": [
        "# Box plot of Google stock prices for each year\n",
        "google_training_complete['Year'] = google_training_complete['Date'].dt.year\n",
        "fig3 = px.box(google_training_complete, x='Year', y='Close', title='Google Stock Prices - Yearly Box Plot')\n",
        "fig3.show()"
      ],
      "metadata": {
        "execution": {
          "iopub.status.busy": "2023-07-30T09:59:25.219975Z",
          "iopub.execute_input": "2023-07-30T09:59:25.220954Z",
          "iopub.status.idle": "2023-07-30T09:59:25.313052Z",
          "shell.execute_reply.started": "2023-07-30T09:59:25.22092Z",
          "shell.execute_reply": "2023-07-30T09:59:25.312072Z"
        },
        "trusted": true,
        "id": "7K3e1a_eo6Db"
      },
      "execution_count": null,
      "outputs": []
    },
    {
      "cell_type": "code",
      "source": [
        "# Candlestick chart for stock prices\n",
        "fig4 = go.Figure(data=[go.Candlestick(x=google_training_complete['Date'],\n",
        "                                     open=google_training_complete['Open'],\n",
        "                                     high=google_training_complete['High'],\n",
        "                                     low=google_training_complete['Low'],\n",
        "                                     close=google_training_complete['Close'])])\n",
        "\n",
        "fig4.update_layout(title='Google Stock Prices - Candlestick Chart',\n",
        "                   xaxis_title='Date',\n",
        "                   yaxis_title='Stock Price')\n",
        "\n",
        "fig4.show()"
      ],
      "metadata": {
        "execution": {
          "iopub.status.busy": "2023-07-30T09:59:25.314509Z",
          "iopub.execute_input": "2023-07-30T09:59:25.3149Z",
          "iopub.status.idle": "2023-07-30T09:59:25.39977Z",
          "shell.execute_reply.started": "2023-07-30T09:59:25.314868Z",
          "shell.execute_reply": "2023-07-30T09:59:25.398904Z"
        },
        "trusted": true,
        "id": "GzoMvEiSo6Db"
      },
      "execution_count": null,
      "outputs": []
    },
    {
      "cell_type": "code",
      "source": [
        "# Histogram of daily returns\n",
        "google_training_complete['Daily_Return'] = google_training_complete['Close'].pct_change()\n",
        "fig5 = px.histogram(google_training_complete, x='Daily_Return', nbins=30, title='Distribution of Daily Returns')\n",
        "fig5.show()"
      ],
      "metadata": {
        "execution": {
          "iopub.status.busy": "2023-07-30T09:59:25.40117Z",
          "iopub.execute_input": "2023-07-30T09:59:25.401807Z",
          "iopub.status.idle": "2023-07-30T09:59:25.49444Z",
          "shell.execute_reply.started": "2023-07-30T09:59:25.401776Z",
          "shell.execute_reply": "2023-07-30T09:59:25.493457Z"
        },
        "trusted": true,
        "id": "fnYC0bHBo6Dc"
      },
      "execution_count": null,
      "outputs": []
    },
    {
      "cell_type": "code",
      "source": [
        "# Heatmap of correlation matrix\n",
        "correlation_matrix = google_training_complete.corr()\n",
        "fig6 = px.imshow(correlation_matrix, x=correlation_matrix.index, y=correlation_matrix.columns, title='Correlation Matrix Heatmap')\n",
        "fig6.show()"
      ],
      "metadata": {
        "execution": {
          "iopub.status.busy": "2023-07-30T09:59:25.496073Z",
          "iopub.execute_input": "2023-07-30T09:59:25.496425Z",
          "iopub.status.idle": "2023-07-30T09:59:25.58031Z",
          "shell.execute_reply.started": "2023-07-30T09:59:25.496394Z",
          "shell.execute_reply": "2023-07-30T09:59:25.579244Z"
        },
        "trusted": true,
        "id": "P8DJmgfLo6Dc"
      },
      "execution_count": null,
      "outputs": []
    },
    {
      "cell_type": "code",
      "source": [
        "# Moving average of closing prices\n",
        "google_training_complete['MA_50'] = google_training_complete['Close'].rolling(window=50).mean()\n",
        "fig7 = px.line(google_training_complete, x='Date', y=['Close', 'MA_50'], title='Google Stock Price with 50-Day Moving Average')\n",
        "fig7.show()"
      ],
      "metadata": {
        "execution": {
          "iopub.status.busy": "2023-07-30T09:59:25.58177Z",
          "iopub.execute_input": "2023-07-30T09:59:25.58237Z",
          "iopub.status.idle": "2023-07-30T09:59:25.774114Z",
          "shell.execute_reply.started": "2023-07-30T09:59:25.582339Z",
          "shell.execute_reply": "2023-07-30T09:59:25.773062Z"
        },
        "trusted": true,
        "id": "1NFyagNro6Dd"
      },
      "execution_count": null,
      "outputs": []
    },
    {
      "cell_type": "code",
      "source": [
        "# Scatter plot of closing prices vs. trading volume\n",
        "fig8 = px.scatter(google_training_complete, x='Close', y='Volume', title='Closing Prices vs. Trading Volume')\n",
        "fig8.show()"
      ],
      "metadata": {
        "execution": {
          "iopub.status.busy": "2023-07-30T09:59:25.778581Z",
          "iopub.execute_input": "2023-07-30T09:59:25.780681Z",
          "iopub.status.idle": "2023-07-30T09:59:25.842935Z",
          "shell.execute_reply.started": "2023-07-30T09:59:25.780646Z",
          "shell.execute_reply": "2023-07-30T09:59:25.84206Z"
        },
        "trusted": true,
        "id": "-YxsEMcjo6Dd"
      },
      "execution_count": null,
      "outputs": []
    },
    {
      "cell_type": "code",
      "source": [
        "# Line chart for daily stock price change\n",
        "google_training_complete['Daily_Change'] = google_training_complete['Close'].diff()\n",
        "fig9 = px.line(google_training_complete, x='Date', y='Daily_Change', title='Daily Stock Price Change')\n",
        "fig9.show()"
      ],
      "metadata": {
        "execution": {
          "iopub.status.busy": "2023-07-30T09:59:25.844971Z",
          "iopub.execute_input": "2023-07-30T09:59:25.845618Z",
          "iopub.status.idle": "2023-07-30T09:59:25.956391Z",
          "shell.execute_reply.started": "2023-07-30T09:59:25.845573Z",
          "shell.execute_reply": "2023-07-30T09:59:25.955269Z"
        },
        "trusted": true,
        "id": "OJLTjxFTo6De"
      },
      "execution_count": null,
      "outputs": []
    },
    {
      "cell_type": "code",
      "source": [
        "# Bar chart of trading volume per month\n",
        "google_training_complete['Month'] = google_training_complete['Date'].dt.month\n",
        "monthly_volume = google_training_complete.groupby('Month')['Volume'].sum().reset_index()\n",
        "fig10 = px.bar(monthly_volume, x='Month', y='Volume', title='Total Trading Volume per Month')\n",
        "fig10.show()"
      ],
      "metadata": {
        "execution": {
          "iopub.status.busy": "2023-07-30T09:59:25.957966Z",
          "iopub.execute_input": "2023-07-30T09:59:25.958331Z",
          "iopub.status.idle": "2023-07-30T09:59:26.038054Z",
          "shell.execute_reply.started": "2023-07-30T09:59:25.9583Z",
          "shell.execute_reply": "2023-07-30T09:59:26.03703Z"
        },
        "trusted": true,
        "id": "VSE-CvP7o6De"
      },
      "execution_count": null,
      "outputs": []
    },
    {
      "cell_type": "code",
      "source": [
        "# Area chart for daily trading volume\n",
        "fig11 = px.area(google_training_complete, x='Date', y='Volume', title='Daily Trading Volume (Area Chart)')\n",
        "fig11.show()"
      ],
      "metadata": {
        "execution": {
          "iopub.status.busy": "2023-07-30T09:59:26.039683Z",
          "iopub.execute_input": "2023-07-30T09:59:26.040034Z",
          "iopub.status.idle": "2023-07-30T09:59:26.164699Z",
          "shell.execute_reply.started": "2023-07-30T09:59:26.039987Z",
          "shell.execute_reply": "2023-07-30T09:59:26.163908Z"
        },
        "trusted": true,
        "id": "D9x1sBsFo6De"
      },
      "execution_count": null,
      "outputs": []
    },
    {
      "cell_type": "code",
      "source": [
        "# Histogram of daily stock price changes\n",
        "fig12 = px.histogram(google_training_complete, x='Daily_Change', title='Distribution of Daily Stock Price Changes')\n",
        "fig12.show()"
      ],
      "metadata": {
        "execution": {
          "iopub.status.busy": "2023-07-30T09:59:26.166173Z",
          "iopub.execute_input": "2023-07-30T09:59:26.166747Z",
          "iopub.status.idle": "2023-07-30T09:59:26.229038Z",
          "shell.execute_reply.started": "2023-07-30T09:59:26.166717Z",
          "shell.execute_reply": "2023-07-30T09:59:26.228125Z"
        },
        "trusted": true,
        "id": "BIJFrMMRo6De"
      },
      "execution_count": null,
      "outputs": []
    },
    {
      "cell_type": "code",
      "source": [
        "# Line chart for daily stock price percent change\n",
        "google_training_complete['Daily_Pct_Change'] = google_training_complete['Close'].pct_change() * 100\n",
        "fig13 = px.line(google_training_complete, x='Date', y='Daily_Pct_Change', title='Daily Stock Price Percent Change')\n",
        "fig13.show()"
      ],
      "metadata": {
        "execution": {
          "iopub.status.busy": "2023-07-30T09:59:26.230123Z",
          "iopub.execute_input": "2023-07-30T09:59:26.230407Z",
          "iopub.status.idle": "2023-07-30T09:59:26.346535Z",
          "shell.execute_reply.started": "2023-07-30T09:59:26.230382Z",
          "shell.execute_reply": "2023-07-30T09:59:26.345549Z"
        },
        "trusted": true,
        "id": "I9P-SJMRo6De"
      },
      "execution_count": null,
      "outputs": []
    },
    {
      "cell_type": "code",
      "source": [
        "# Box plot of daily stock price percent change by month\n",
        "fig14 = px.box(google_training_complete, x='Month', y='Daily_Pct_Change', title='Daily Stock Price Percent Change by Month')\n",
        "fig14.show()"
      ],
      "metadata": {
        "execution": {
          "iopub.status.busy": "2023-07-30T09:59:26.347832Z",
          "iopub.execute_input": "2023-07-30T09:59:26.348378Z",
          "iopub.status.idle": "2023-07-30T09:59:26.407673Z",
          "shell.execute_reply.started": "2023-07-30T09:59:26.348348Z",
          "shell.execute_reply": "2023-07-30T09:59:26.406875Z"
        },
        "trusted": true,
        "id": "49z86ELMo6Df"
      },
      "execution_count": null,
      "outputs": []
    },
    {
      "cell_type": "code",
      "source": [
        "# Scatter plot of closing prices with trendline\n",
        "fig15 = px.scatter(google_training_complete, x='Date', y='Close', title='Google Stock Prices with Trendline', trendline='lowess')\n",
        "fig15.show()"
      ],
      "metadata": {
        "execution": {
          "iopub.status.busy": "2023-07-30T09:59:26.408914Z",
          "iopub.execute_input": "2023-07-30T09:59:26.40988Z",
          "iopub.status.idle": "2023-07-30T09:59:27.523294Z",
          "shell.execute_reply.started": "2023-07-30T09:59:26.409847Z",
          "shell.execute_reply": "2023-07-30T09:59:27.522358Z"
        },
        "trusted": true,
        "id": "Xek30H5ro6Df"
      },
      "execution_count": null,
      "outputs": []
    },
    {
      "cell_type": "code",
      "source": [
        "# Line chart for daily trading volume with moving average\n",
        "google_training_complete['MA_Volume'] = google_training_complete['Volume'].rolling(window=10).mean()\n",
        "fig16 = px.line(google_training_complete, x='Date', y=['Volume', 'MA_Volume'], title='Daily Trading Volume with 10-Day Moving Average')\n",
        "fig16.show()"
      ],
      "metadata": {
        "execution": {
          "iopub.status.busy": "2023-07-30T09:59:27.52455Z",
          "iopub.execute_input": "2023-07-30T09:59:27.525733Z",
          "iopub.status.idle": "2023-07-30T09:59:27.704732Z",
          "shell.execute_reply.started": "2023-07-30T09:59:27.525692Z",
          "shell.execute_reply": "2023-07-30T09:59:27.703911Z"
        },
        "trusted": true,
        "id": "-6WxpV0qo6Df"
      },
      "execution_count": null,
      "outputs": []
    },
    {
      "cell_type": "code",
      "source": [
        "# Box plot of daily stock price changes by year\n",
        "fig17 = px.box(google_training_complete, x='Year', y='Daily_Change', title='Daily Stock Price Changes by Year')\n",
        "fig17.show()"
      ],
      "metadata": {
        "execution": {
          "iopub.status.busy": "2023-07-30T09:59:27.706028Z",
          "iopub.execute_input": "2023-07-30T09:59:27.707061Z",
          "iopub.status.idle": "2023-07-30T09:59:27.76624Z",
          "shell.execute_reply.started": "2023-07-30T09:59:27.707027Z",
          "shell.execute_reply": "2023-07-30T09:59:27.765188Z"
        },
        "trusted": true,
        "id": "ym2bNIgTo6Df"
      },
      "execution_count": null,
      "outputs": []
    },
    {
      "cell_type": "code",
      "source": [
        "# Line chart for daily closing prices in 2022\n",
        "df_2022 = google_training_complete[google_training_complete['Year'] == 2022]\n",
        "fig18 = px.line(google_training_complete, x='Date', y='Close', title='Google Stock Prices in 2022')\n",
        "fig18.show()"
      ],
      "metadata": {
        "execution": {
          "iopub.status.busy": "2023-07-30T09:59:27.767884Z",
          "iopub.execute_input": "2023-07-30T09:59:27.768226Z",
          "iopub.status.idle": "2023-07-30T09:59:27.881706Z",
          "shell.execute_reply.started": "2023-07-30T09:59:27.768196Z",
          "shell.execute_reply": "2023-07-30T09:59:27.880854Z"
        },
        "trusted": true,
        "id": "XLBRNIeZo6Df"
      },
      "execution_count": null,
      "outputs": []
    },
    {
      "cell_type": "code",
      "source": [
        "# Scatter plot of daily returns vs. trading volume\n",
        "fig19 = px.scatter(google_training_complete, x='Daily_Return', y='Volume', title='Daily Returns vs. Trading Volume')\n",
        "fig19.show()"
      ],
      "metadata": {
        "execution": {
          "iopub.status.busy": "2023-07-30T09:59:27.882934Z",
          "iopub.execute_input": "2023-07-30T09:59:27.883932Z",
          "iopub.status.idle": "2023-07-30T09:59:27.952395Z",
          "shell.execute_reply.started": "2023-07-30T09:59:27.883898Z",
          "shell.execute_reply": "2023-07-30T09:59:27.95133Z"
        },
        "trusted": true,
        "id": "0wJQ75-0o6Dg"
      },
      "execution_count": null,
      "outputs": []
    },
    {
      "cell_type": "code",
      "source": [
        "# Line chart for daily trading volume with range slider\n",
        "fig20 = px.line(google_training_complete, x='Date', y='Volume', title='Daily Trading Volume with Range Slider')\n",
        "fig20.update_xaxes(rangeslider_visible=True)\n",
        "fig20.show()"
      ],
      "metadata": {
        "execution": {
          "iopub.status.busy": "2023-07-30T09:59:27.954106Z",
          "iopub.execute_input": "2023-07-30T09:59:27.954463Z",
          "iopub.status.idle": "2023-07-30T09:59:28.079564Z",
          "shell.execute_reply.started": "2023-07-30T09:59:27.95443Z",
          "shell.execute_reply": "2023-07-30T09:59:28.078696Z"
        },
        "trusted": true,
        "id": "V8FZr26no6Dg"
      },
      "execution_count": null,
      "outputs": []
    },
    {
      "cell_type": "markdown",
      "source": [
        "## Data preprocessing"
      ],
      "metadata": {
        "id": "9wWnLn-to6Dg"
      }
    },
    {
      "cell_type": "code",
      "source": [
        "google_training_processed = google_training_complete.iloc[:, 4:5].values\n",
        "google_training_processed"
      ],
      "metadata": {
        "execution": {
          "iopub.status.busy": "2023-07-30T09:59:28.080975Z",
          "iopub.execute_input": "2023-07-30T09:59:28.081571Z",
          "iopub.status.idle": "2023-07-30T09:59:28.090078Z",
          "shell.execute_reply.started": "2023-07-30T09:59:28.081537Z",
          "shell.execute_reply": "2023-07-30T09:59:28.088843Z"
        },
        "trusted": true,
        "id": "VQn3A3MFo6Dg"
      },
      "execution_count": null,
      "outputs": []
    },
    {
      "cell_type": "code",
      "source": [
        "scaler = MinMaxScaler(feature_range = (0, 1))\n",
        "\n",
        "google_training_scaled = scaler.fit_transform(google_training_processed)"
      ],
      "metadata": {
        "papermill": {
          "duration": 0.889882,
          "end_time": "2022-08-12T10:33:22.656882",
          "exception": false,
          "start_time": "2022-08-12T10:33:21.767",
          "status": "completed"
        },
        "tags": [],
        "execution": {
          "iopub.status.busy": "2023-07-30T09:59:28.091804Z",
          "iopub.execute_input": "2023-07-30T09:59:28.092681Z",
          "iopub.status.idle": "2023-07-30T09:59:28.102203Z",
          "shell.execute_reply.started": "2023-07-30T09:59:28.092645Z",
          "shell.execute_reply": "2023-07-30T09:59:28.099549Z"
        },
        "trusted": true,
        "id": "-FtRODHio6Dh"
      },
      "execution_count": null,
      "outputs": []
    },
    {
      "cell_type": "code",
      "source": [
        "print(google_training_scaled)\n",
        "print(google_training_scaled.shape)"
      ],
      "metadata": {
        "papermill": {
          "duration": 0.016162,
          "end_time": "2022-08-12T10:33:22.679746",
          "exception": false,
          "start_time": "2022-08-12T10:33:22.663584",
          "status": "completed"
        },
        "tags": [],
        "execution": {
          "iopub.status.busy": "2023-07-30T09:59:28.103702Z",
          "iopub.execute_input": "2023-07-30T09:59:28.104103Z",
          "iopub.status.idle": "2023-07-30T09:59:28.116287Z",
          "shell.execute_reply.started": "2023-07-30T09:59:28.104072Z",
          "shell.execute_reply": "2023-07-30T09:59:28.115271Z"
        },
        "trusted": true,
        "id": "EfPpz1FMo6Dh"
      },
      "execution_count": null,
      "outputs": []
    },
    {
      "cell_type": "code",
      "source": [
        "features_set = []\n",
        "labels = []\n",
        "for i in range(60, google_training_scaled.shape[0]):\n",
        "    features_set.append(google_training_scaled[i-60:i, 0])\n",
        "    labels.append(google_training_scaled[i, 0])"
      ],
      "metadata": {
        "papermill": {
          "duration": 0.01548,
          "end_time": "2022-08-12T10:33:22.723927",
          "exception": false,
          "start_time": "2022-08-12T10:33:22.708447",
          "status": "completed"
        },
        "tags": [],
        "execution": {
          "iopub.status.busy": "2023-07-30T10:00:14.077991Z",
          "iopub.execute_input": "2023-07-30T10:00:14.0784Z",
          "iopub.status.idle": "2023-07-30T10:00:14.088217Z",
          "shell.execute_reply.started": "2023-07-30T10:00:14.078369Z",
          "shell.execute_reply": "2023-07-30T10:00:14.087276Z"
        },
        "trusted": true,
        "id": "qKasY1Qao6Dh"
      },
      "execution_count": null,
      "outputs": []
    },
    {
      "cell_type": "code",
      "source": [
        "type(features_set)"
      ],
      "metadata": {
        "papermill": {
          "duration": 0.014997,
          "end_time": "2022-08-12T10:33:22.746209",
          "exception": false,
          "start_time": "2022-08-12T10:33:22.731212",
          "status": "completed"
        },
        "tags": [],
        "execution": {
          "iopub.status.busy": "2023-07-30T10:00:15.049673Z",
          "iopub.execute_input": "2023-07-30T10:00:15.050038Z",
          "iopub.status.idle": "2023-07-30T10:00:15.056233Z",
          "shell.execute_reply.started": "2023-07-30T10:00:15.049988Z",
          "shell.execute_reply": "2023-07-30T10:00:15.055212Z"
        },
        "trusted": true,
        "id": "lgeAKgpzo6Dh"
      },
      "execution_count": null,
      "outputs": []
    },
    {
      "cell_type": "code",
      "source": [
        "features_set, labels = np.array(features_set), np.array(labels)"
      ],
      "metadata": {
        "papermill": {
          "duration": 0.014639,
          "end_time": "2022-08-12T10:33:22.767637",
          "exception": false,
          "start_time": "2022-08-12T10:33:22.752998",
          "status": "completed"
        },
        "tags": [],
        "execution": {
          "iopub.status.busy": "2023-07-30T10:00:16.390922Z",
          "iopub.execute_input": "2023-07-30T10:00:16.391651Z",
          "iopub.status.idle": "2023-07-30T10:00:16.403369Z",
          "shell.execute_reply.started": "2023-07-30T10:00:16.391606Z",
          "shell.execute_reply": "2023-07-30T10:00:16.4024Z"
        },
        "trusted": true,
        "id": "CNsmZse2o6Di"
      },
      "execution_count": null,
      "outputs": []
    },
    {
      "cell_type": "code",
      "source": [
        "features_set = np.reshape(features_set, (features_set.shape[0], features_set.shape[1], 1))\n",
        "print(features_set.shape)"
      ],
      "metadata": {
        "papermill": {
          "duration": 0.015045,
          "end_time": "2022-08-12T10:33:22.812629",
          "exception": false,
          "start_time": "2022-08-12T10:33:22.797584",
          "status": "completed"
        },
        "tags": [],
        "execution": {
          "iopub.status.busy": "2023-07-30T10:00:17.496743Z",
          "iopub.execute_input": "2023-07-30T10:00:17.497115Z",
          "iopub.status.idle": "2023-07-30T10:00:17.502961Z",
          "shell.execute_reply.started": "2023-07-30T10:00:17.497085Z",
          "shell.execute_reply": "2023-07-30T10:00:17.50204Z"
        },
        "trusted": true,
        "id": "DJRfxzV5o6Di"
      },
      "execution_count": null,
      "outputs": []
    },
    {
      "cell_type": "code",
      "source": [
        "RNN_model = Sequential()\n",
        "RNN_model.add(SimpleRNN(units=300, return_sequences=True, input_shape=(features_set.shape[1], 1)))\n",
        "RNN_model.add(Dropout(0.2))\n",
        "\n",
        "RNN_model.add(SimpleRNN(units=100, return_sequences=True))\n",
        "RNN_model.add(Dropout(0.2))\n",
        "\n",
        "RNN_model.add(SimpleRNN(units=100, return_sequences=True))\n",
        "RNN_model.add(Dropout(0.2))\n",
        "\n",
        "RNN_model.add(SimpleRNN(units=100))\n",
        "RNN_model.add(Dropout(0.2))\n",
        "\n",
        "RNN_model.add(Dense(units = 1))"
      ],
      "metadata": {
        "execution": {
          "iopub.status.busy": "2023-07-30T00:51:13.695955Z",
          "iopub.execute_input": "2023-07-30T00:51:13.696345Z",
          "iopub.status.idle": "2023-07-30T00:51:17.90413Z",
          "shell.execute_reply.started": "2023-07-30T00:51:13.69631Z",
          "shell.execute_reply": "2023-07-30T00:51:17.902952Z"
        },
        "trusted": true,
        "id": "MFXcPAoLo6Dj"
      },
      "execution_count": null,
      "outputs": []
    },
    {
      "cell_type": "code",
      "source": [
        "RNN_model.compile(optimizer = 'adam', loss = 'mean_squared_error')"
      ],
      "metadata": {
        "execution": {
          "iopub.status.busy": "2023-07-30T00:51:18.268851Z",
          "iopub.execute_input": "2023-07-30T00:51:18.269217Z",
          "iopub.status.idle": "2023-07-30T00:51:18.288944Z",
          "shell.execute_reply.started": "2023-07-30T00:51:18.269164Z",
          "shell.execute_reply": "2023-07-30T00:51:18.287917Z"
        },
        "trusted": true,
        "id": "geyeh3bXo6Dj"
      },
      "execution_count": null,
      "outputs": []
    },
    {
      "cell_type": "code",
      "source": [
        "RNN_model.summary()"
      ],
      "metadata": {
        "execution": {
          "iopub.status.busy": "2023-07-30T00:51:18.827694Z",
          "iopub.execute_input": "2023-07-30T00:51:18.828037Z",
          "iopub.status.idle": "2023-07-30T00:51:18.86075Z",
          "shell.execute_reply.started": "2023-07-30T00:51:18.828006Z",
          "shell.execute_reply": "2023-07-30T00:51:18.860022Z"
        },
        "trusted": true,
        "id": "szjE42W0o6Do"
      },
      "execution_count": null,
      "outputs": []
    },
    {
      "cell_type": "code",
      "source": [
        "RNN_History = RNN_model.fit(features_set, labels, epochs = 300, batch_size = 32)"
      ],
      "metadata": {
        "execution": {
          "iopub.status.busy": "2023-07-30T00:51:23.708285Z",
          "iopub.execute_input": "2023-07-30T00:51:23.70871Z",
          "iopub.status.idle": "2023-07-30T01:06:48.771848Z",
          "shell.execute_reply.started": "2023-07-30T00:51:23.708672Z",
          "shell.execute_reply": "2023-07-30T01:06:48.770747Z"
        },
        "trusted": true,
        "id": "I9nDejtRo6Dp"
      },
      "execution_count": null,
      "outputs": []
    },
    {
      "cell_type": "code",
      "source": [
        "LSTM_model = Sequential()\n",
        "LSTM_model.add(LSTM(units=300, return_sequences=True, input_shape=(features_set.shape[1], 1)))\n",
        "LSTM_model.add(Dropout(0.2))\n",
        "\n",
        "LSTM_model.add(LSTM(units=100, return_sequences=True))\n",
        "LSTM_model.add(Dropout(0.2))\n",
        "\n",
        "LSTM_model.add(LSTM(units=100, return_sequences=True))\n",
        "LSTM_model.add(Dropout(0.2))\n",
        "\n",
        "LSTM_model.add(LSTM(units=100))\n",
        "LSTM_model.add(Dropout(0.2))\n",
        "\n",
        "LSTM_model.add(Dense(units = 1))"
      ],
      "metadata": {
        "papermill": {
          "duration": 2.678106,
          "end_time": "2022-08-12T10:33:30.682402",
          "exception": false,
          "start_time": "2022-08-12T10:33:28.004296",
          "status": "completed"
        },
        "tags": [],
        "execution": {
          "iopub.status.busy": "2023-07-30T01:06:48.774485Z",
          "iopub.execute_input": "2023-07-30T01:06:48.774902Z",
          "iopub.status.idle": "2023-07-30T01:06:49.817625Z",
          "shell.execute_reply.started": "2023-07-30T01:06:48.77486Z",
          "shell.execute_reply": "2023-07-30T01:06:49.81663Z"
        },
        "trusted": true,
        "id": "nvb96fCeo6Dp"
      },
      "execution_count": null,
      "outputs": []
    },
    {
      "cell_type": "code",
      "source": [
        "LSTM_model.compile(optimizer = 'adam', loss = 'mean_squared_error')"
      ],
      "metadata": {
        "papermill": {
          "duration": 0.026632,
          "end_time": "2022-08-12T10:33:31.67537",
          "exception": false,
          "start_time": "2022-08-12T10:33:31.648738",
          "status": "completed"
        },
        "tags": [],
        "execution": {
          "iopub.status.busy": "2023-07-30T01:06:49.81912Z",
          "iopub.execute_input": "2023-07-30T01:06:49.819718Z",
          "iopub.status.idle": "2023-07-30T01:06:49.832091Z",
          "shell.execute_reply.started": "2023-07-30T01:06:49.819683Z",
          "shell.execute_reply": "2023-07-30T01:06:49.831114Z"
        },
        "trusted": true,
        "id": "GW5NOXSBo6Dq"
      },
      "execution_count": null,
      "outputs": []
    },
    {
      "cell_type": "code",
      "source": [
        "LSTM_model.summary()"
      ],
      "metadata": {
        "papermill": {
          "duration": 0.016801,
          "end_time": "2022-08-12T10:33:31.69907",
          "exception": false,
          "start_time": "2022-08-12T10:33:31.682269",
          "status": "completed"
        },
        "tags": [],
        "execution": {
          "iopub.status.busy": "2023-07-30T01:06:49.835234Z",
          "iopub.execute_input": "2023-07-30T01:06:49.835586Z",
          "iopub.status.idle": "2023-07-30T01:06:49.866455Z",
          "shell.execute_reply.started": "2023-07-30T01:06:49.835552Z",
          "shell.execute_reply": "2023-07-30T01:06:49.865711Z"
        },
        "trusted": true,
        "id": "x45btYPno6Dq"
      },
      "execution_count": null,
      "outputs": []
    },
    {
      "cell_type": "code",
      "source": [
        "LSTM_History = LSTM_model.fit(features_set, labels, epochs = 300, batch_size = 32)"
      ],
      "metadata": {
        "papermill": {
          "duration": 206.48292,
          "end_time": "2022-08-12T10:36:58.189128",
          "exception": false,
          "start_time": "2022-08-12T10:33:31.706208",
          "status": "completed"
        },
        "tags": [],
        "execution": {
          "iopub.status.busy": "2023-07-30T01:07:27.949271Z",
          "iopub.execute_input": "2023-07-30T01:07:27.949634Z",
          "iopub.status.idle": "2023-07-30T01:08:49.926394Z",
          "shell.execute_reply.started": "2023-07-30T01:07:27.949602Z",
          "shell.execute_reply": "2023-07-30T01:08:49.925246Z"
        },
        "trusted": true,
        "id": "I2irbi6Ko6Dr"
      },
      "execution_count": null,
      "outputs": []
    },
    {
      "cell_type": "code",
      "source": [
        "GRU_model = Sequential()\n",
        "GRU_model.add(GRU(units=300, return_sequences=True, input_shape=(features_set.shape[1], 1)))\n",
        "GRU_model.add(Dropout(0.2))\n",
        "\n",
        "GRU_model.add(GRU(units=100, return_sequences=True))\n",
        "GRU_model.add(Dropout(0.2))\n",
        "\n",
        "GRU_model.add(GRU(units=100, return_sequences=True))\n",
        "GRU_model.add(Dropout(0.2))\n",
        "\n",
        "GRU_model.add(GRU(units=100))\n",
        "GRU_model.add(Dropout(0.2))\n",
        "\n",
        "GRU_model.add(Dense(units = 1))"
      ],
      "metadata": {
        "execution": {
          "iopub.status.busy": "2023-07-30T01:08:49.928979Z",
          "iopub.execute_input": "2023-07-30T01:08:49.930462Z",
          "iopub.status.idle": "2023-07-30T01:08:50.828466Z",
          "shell.execute_reply.started": "2023-07-30T01:08:49.930422Z",
          "shell.execute_reply": "2023-07-30T01:08:50.827468Z"
        },
        "trusted": true,
        "id": "8uDs0CdLo6Dr"
      },
      "execution_count": null,
      "outputs": []
    },
    {
      "cell_type": "code",
      "source": [
        "GRU_model.compile(optimizer = 'adam', loss = 'mean_squared_error')"
      ],
      "metadata": {
        "execution": {
          "iopub.status.busy": "2023-07-30T01:08:50.830021Z",
          "iopub.execute_input": "2023-07-30T01:08:50.830396Z",
          "iopub.status.idle": "2023-07-30T01:08:50.842685Z",
          "shell.execute_reply.started": "2023-07-30T01:08:50.830361Z",
          "shell.execute_reply": "2023-07-30T01:08:50.841586Z"
        },
        "trusted": true,
        "id": "VpKVzWFlo6Ds"
      },
      "execution_count": null,
      "outputs": []
    },
    {
      "cell_type": "code",
      "source": [
        "GRU_model.summary()"
      ],
      "metadata": {
        "execution": {
          "iopub.status.busy": "2023-07-30T01:08:50.844764Z",
          "iopub.execute_input": "2023-07-30T01:08:50.845166Z",
          "iopub.status.idle": "2023-07-30T01:08:50.87018Z",
          "shell.execute_reply.started": "2023-07-30T01:08:50.845133Z",
          "shell.execute_reply": "2023-07-30T01:08:50.869478Z"
        },
        "trusted": true,
        "id": "lXQgSCCbo6Ds"
      },
      "execution_count": null,
      "outputs": []
    },
    {
      "cell_type": "code",
      "source": [
        "GRU_History = GRU_model.fit(features_set, labels, epochs = 300, batch_size = 32)"
      ],
      "metadata": {
        "execution": {
          "iopub.status.busy": "2023-07-30T01:08:50.871104Z",
          "iopub.execute_input": "2023-07-30T01:08:50.87142Z",
          "iopub.status.idle": "2023-07-30T01:10:18.988162Z",
          "shell.execute_reply.started": "2023-07-30T01:08:50.871389Z",
          "shell.execute_reply": "2023-07-30T01:10:18.986883Z"
        },
        "trusted": true,
        "id": "RWztVuDKo6Dt"
      },
      "execution_count": null,
      "outputs": []
    },
    {
      "cell_type": "code",
      "source": [
        "fig = go.Figure()\n",
        "\n",
        "# Training loss trace\n",
        "fig.add_trace(go.Scatter(x=list(range(1, len(RNN_History.history['loss']) + 1)),\n",
        "                         y=RNN_History.history['loss'],\n",
        "                         mode='lines',\n",
        "                         name='RNN Training Loss'))\n",
        "fig.add_trace(go.Scatter(x=list(range(1, len(LSTM_History.history['loss']) + 1)),\n",
        "                         y=LSTM_History.history['loss'],\n",
        "                         mode='lines',\n",
        "                         name='LSTM Training Loss'))\n",
        "fig.add_trace(go.Scatter(x=list(range(1, len(GRU_History.history['loss']) + 1)),\n",
        "                         y=GRU_History.history['loss'],\n",
        "                         mode='lines',\n",
        "                         name='GRU Training Loss'))\n",
        "\n",
        "fig.update_layout(title='Training and Validation Loss',\n",
        "                  xaxis_title='Epoch',\n",
        "                  yaxis_title='Loss',\n",
        "                  legend_title='Loss Type',\n",
        "                  hovermode='x',\n",
        "                  hoverlabel=dict(bgcolor='white', font_size=12, font_family='Rockwell'),\n",
        "                  template='plotly_white')\n",
        "\n",
        "fig.show()"
      ],
      "metadata": {
        "execution": {
          "iopub.status.busy": "2023-07-30T01:10:18.99035Z",
          "iopub.execute_input": "2023-07-30T01:10:18.99067Z",
          "iopub.status.idle": "2023-07-30T01:10:19.05607Z",
          "shell.execute_reply.started": "2023-07-30T01:10:18.990639Z",
          "shell.execute_reply": "2023-07-30T01:10:19.055113Z"
        },
        "trusted": true,
        "id": "bv-fDcxbo6Dt"
      },
      "execution_count": null,
      "outputs": []
    },
    {
      "cell_type": "markdown",
      "source": [
        "#### Evalute Model Prediction"
      ],
      "metadata": {
        "id": "zJmQw4tko6Dt"
      }
    },
    {
      "cell_type": "code",
      "source": [
        "google_testing_complete = pd.read_csv(\"/kaggle/input/google-stock-2010-2023/Google_Stock_Test (2023).csv\")\n",
        "google_testing_processed = google_testing_complete.iloc[:, 1:2].values\n",
        "\n",
        "google_total = pd.concat((google_training_complete['Close'], google_testing_complete['Close']), axis=0)\n",
        "\n",
        "test_inputs = google_total[len(google_total) - len(google_testing_complete) - 60:].values\n",
        "test_inputs"
      ],
      "metadata": {
        "execution": {
          "iopub.status.busy": "2023-07-30T01:11:52.54734Z",
          "iopub.execute_input": "2023-07-30T01:11:52.547728Z",
          "iopub.status.idle": "2023-07-30T01:11:52.590289Z",
          "shell.execute_reply.started": "2023-07-30T01:11:52.547695Z",
          "shell.execute_reply": "2023-07-30T01:11:52.589233Z"
        },
        "trusted": true,
        "id": "z4G8JGCso6Du"
      },
      "execution_count": null,
      "outputs": []
    },
    {
      "cell_type": "code",
      "source": [
        "test_inputs = test_inputs.reshape(-1,1)\n",
        "test_inputs = scaler.transform(test_inputs)\n",
        "\n",
        "test_features = []\n",
        "for i in range(60, len(test_inputs)):\n",
        "    test_features.append(test_inputs[i-60:i, 0])\n",
        "\n",
        "test_features = np.array(test_features)\n",
        "test_features = np.reshape(test_features, (test_features.shape[0], test_features.shape[1], 1))\n",
        "test_features.shape"
      ],
      "metadata": {
        "execution": {
          "iopub.status.busy": "2023-07-30T01:12:02.06743Z",
          "iopub.execute_input": "2023-07-30T01:12:02.0678Z",
          "iopub.status.idle": "2023-07-30T01:12:02.078965Z",
          "shell.execute_reply.started": "2023-07-30T01:12:02.067765Z",
          "shell.execute_reply": "2023-07-30T01:12:02.077853Z"
        },
        "trusted": true,
        "id": "-WY4pgO2o6Du"
      },
      "execution_count": null,
      "outputs": []
    },
    {
      "cell_type": "code",
      "source": [
        "# Evaluate the model on the test set\n",
        "## RNN\n",
        "RNN_test_loss = RNN_model.evaluate(test_features, google_testing_processed)\n",
        "print(f'RNN Test Loss: {RNN_test_loss}')\n",
        "\n",
        "## LSTM\n",
        "LSTM_test_loss = LSTM_model.evaluate(test_features, google_testing_processed)\n",
        "print(f'LSTM Test Loss: {LSTM_test_loss}')\n",
        "\n",
        "## GRU\n",
        "GRU_test_loss = GRU_model.evaluate(test_features, google_testing_processed)\n",
        "print(f'LSTM Test Loss: {GRU_test_loss}')"
      ],
      "metadata": {
        "execution": {
          "iopub.status.busy": "2023-07-30T01:12:36.128034Z",
          "iopub.execute_input": "2023-07-30T01:12:36.128537Z",
          "iopub.status.idle": "2023-07-30T01:12:39.478383Z",
          "shell.execute_reply.started": "2023-07-30T01:12:36.128499Z",
          "shell.execute_reply": "2023-07-30T01:12:39.477417Z"
        },
        "trusted": true,
        "id": "Bq9HOGDEo6Du"
      },
      "execution_count": null,
      "outputs": []
    },
    {
      "cell_type": "markdown",
      "source": [
        "## Make predictions"
      ],
      "metadata": {
        "id": "BZKWtvKuo6Du"
      }
    },
    {
      "cell_type": "code",
      "source": [
        "# RNN\n",
        "RNN_predictions = RNN_model.predict(test_features)\n",
        "RNN_predictions = scaler.inverse_transform(RNN_predictions)\n",
        "\n",
        "# LSTM\n",
        "LSTM_predictions = LSTM_model.predict(test_features)\n",
        "LSTM_predictions = scaler.inverse_transform(LSTM_predictions)\n",
        "\n",
        "# GRU\n",
        "GRU_predictions = GRU_model.predict(test_features)\n",
        "GRU_predictions = scaler.inverse_transform(GRU_predictions)"
      ],
      "metadata": {
        "execution": {
          "iopub.status.busy": "2023-07-30T01:13:08.729644Z",
          "iopub.execute_input": "2023-07-30T01:13:08.730077Z",
          "iopub.status.idle": "2023-07-30T01:13:12.00954Z",
          "shell.execute_reply.started": "2023-07-30T01:13:08.730034Z",
          "shell.execute_reply": "2023-07-30T01:13:12.008493Z"
        },
        "trusted": true,
        "id": "PMx-XcUuo6Du"
      },
      "execution_count": null,
      "outputs": []
    },
    {
      "cell_type": "code",
      "source": [
        "google_testing_complete"
      ],
      "metadata": {
        "execution": {
          "iopub.status.busy": "2023-07-30T01:13:20.167665Z",
          "iopub.execute_input": "2023-07-30T01:13:20.168409Z",
          "iopub.status.idle": "2023-07-30T01:13:20.193728Z",
          "shell.execute_reply.started": "2023-07-30T01:13:20.168361Z",
          "shell.execute_reply": "2023-07-30T01:13:20.192681Z"
        },
        "trusted": true,
        "id": "_7o6nP68o6Dv"
      },
      "execution_count": null,
      "outputs": []
    },
    {
      "cell_type": "code",
      "source": [
        "google_prediction = google_testing_complete['Date']\n",
        "google_prediction = pd.DataFrame(google_prediction)\n",
        "google_prediction['RNN_Open'] = RNN_predictions\n",
        "google_prediction['LSTM_Open'] = LSTM_predictions\n",
        "google_prediction['GRU_Open'] = GRU_predictions\n",
        "\n",
        "google_prediction"
      ],
      "metadata": {
        "execution": {
          "iopub.status.busy": "2023-07-30T01:13:47.346354Z",
          "iopub.execute_input": "2023-07-30T01:13:47.346717Z",
          "iopub.status.idle": "2023-07-30T01:13:47.366788Z",
          "shell.execute_reply.started": "2023-07-30T01:13:47.346686Z",
          "shell.execute_reply": "2023-07-30T01:13:47.365382Z"
        },
        "trusted": true,
        "id": "bsRLxS-jo6Dv"
      },
      "execution_count": null,
      "outputs": []
    },
    {
      "cell_type": "code",
      "source": [
        "fig = go.Figure()\n",
        "\n",
        "# Actual Apple stock price trace\n",
        "fig.add_trace(go.Scatter(x=google_testing_complete.Date,\n",
        "                         y=google_testing_complete.Open,\n",
        "                         mode='lines',\n",
        "                         name='Actual Google Stock Price',\n",
        "                         line=dict(color='blue')))\n",
        "\n",
        "# RNN Predicted Apple stock price trace\n",
        "fig.add_trace(go.Scatter(x=google_prediction.Date,\n",
        "                         y=google_prediction.RNN_Open,\n",
        "                         mode='lines',\n",
        "                         name='RNN Predicted Google Stock Price',\n",
        "                         line=dict(color='red')))\n",
        "\n",
        "# LSTM Predicted Apple stock price trace\n",
        "fig.add_trace(go.Scatter(x=google_prediction.Date,\n",
        "                         y=google_prediction.LSTM_Open,\n",
        "                         mode='lines',\n",
        "                         name='LSTM Predicted Google Stock Price',\n",
        "                         line=dict(color='green')))\n",
        "\n",
        "# LSTM Predicted Apple stock price trace\n",
        "fig.add_trace(go.Scatter(x=google_prediction.Date,\n",
        "                         y=google_prediction.GRU_Open,\n",
        "                         mode='lines',\n",
        "                         name='GRU Predicted Google Stock Price',\n",
        "                         line=dict(color='yellow')))\n",
        "\n",
        "fig.update_layout(title='Google Stock Price Prediction',\n",
        "                  xaxis_title='Date',\n",
        "                  yaxis_title='Google Stock Price',\n",
        "                  legend_title='Price Type',\n",
        "                  hovermode='x',\n",
        "                  hoverlabel=dict(bgcolor='white', font_size=12, font_family='Rockwell'),\n",
        "                  template='plotly_white')\n",
        "\n",
        "fig.show()"
      ],
      "metadata": {
        "execution": {
          "iopub.status.busy": "2023-07-30T01:15:39.157154Z",
          "iopub.execute_input": "2023-07-30T01:15:39.158129Z",
          "iopub.status.idle": "2023-07-30T01:15:39.208806Z",
          "shell.execute_reply.started": "2023-07-30T01:15:39.158094Z",
          "shell.execute_reply": "2023-07-30T01:15:39.207646Z"
        },
        "trusted": true,
        "id": "ex4DTG9lo6Dv"
      },
      "execution_count": null,
      "outputs": []
    }
  ]
}